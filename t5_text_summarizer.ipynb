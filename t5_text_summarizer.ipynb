{
  "cells": [
    {
      "cell_type": "code",
      "execution_count": 1,
      "metadata": {
        "colab": {
          "base_uri": "https://localhost:8080/"
        },
        "id": "JnYZGErZzQyk",
        "outputId": "c76432cb-1d31-4c36-dc59-264f5a3ed026"
      },
      "outputs": [
        {
          "name": "stdout",
          "output_type": "stream",
          "text": [
            "Defaulting to user installation because normal site-packages is not writeable\n",
            "Requirement already satisfied: transformers==4.20.0 in /home/vrsa/.local/lib/python3.10/site-packages (4.20.0)\n",
            "Requirement already satisfied: filelock in /home/vrsa/.local/lib/python3.10/site-packages (from transformers==4.20.0) (3.13.1)\n",
            "Requirement already satisfied: huggingface-hub<1.0,>=0.1.0 in /home/vrsa/.local/lib/python3.10/site-packages (from transformers==4.20.0) (0.20.1)\n",
            "Requirement already satisfied: numpy>=1.17 in /home/vrsa/.local/lib/python3.10/site-packages (from transformers==4.20.0) (1.26.1)\n",
            "Requirement already satisfied: packaging>=20.0 in /home/vrsa/.local/lib/python3.10/site-packages (from transformers==4.20.0) (23.2)\n",
            "Requirement already satisfied: pyyaml>=5.1 in /usr/lib/python3/dist-packages (from transformers==4.20.0) (5.4.1)\n",
            "Requirement already satisfied: regex!=2019.12.17 in /home/vrsa/.local/lib/python3.10/site-packages (from transformers==4.20.0) (2023.12.25)\n",
            "Requirement already satisfied: requests in /usr/lib/python3/dist-packages (from transformers==4.20.0) (2.25.1)\n",
            "Requirement already satisfied: tokenizers!=0.11.3,<0.13,>=0.11.1 in /home/vrsa/.local/lib/python3.10/site-packages (from transformers==4.20.0) (0.12.1)\n",
            "Requirement already satisfied: tqdm>=4.27 in /home/vrsa/.local/lib/python3.10/site-packages (from transformers==4.20.0) (4.66.1)\n",
            "Requirement already satisfied: fsspec>=2023.5.0 in /home/vrsa/.local/lib/python3.10/site-packages (from huggingface-hub<1.0,>=0.1.0->transformers==4.20.0) (2023.10.0)\n",
            "Requirement already satisfied: typing-extensions>=3.7.4.3 in /home/vrsa/.local/lib/python3.10/site-packages (from huggingface-hub<1.0,>=0.1.0->transformers==4.20.0) (4.9.0)\n",
            "Defaulting to user installation because normal site-packages is not writeable\n",
            "Requirement already satisfied: keras_nlp==0.3.0 in /home/vrsa/.local/lib/python3.10/site-packages (0.3.0)\n",
            "Requirement already satisfied: absl-py in /home/vrsa/.local/lib/python3.10/site-packages (from keras_nlp==0.3.0) (2.0.0)\n",
            "Requirement already satisfied: numpy in /home/vrsa/.local/lib/python3.10/site-packages (from keras_nlp==0.3.0) (1.26.1)\n",
            "Requirement already satisfied: packaging in /home/vrsa/.local/lib/python3.10/site-packages (from keras_nlp==0.3.0) (23.2)\n",
            "Requirement already satisfied: tensorflow in /home/vrsa/.local/lib/python3.10/site-packages (from keras_nlp==0.3.0) (2.15.0.post1)\n",
            "Requirement already satisfied: tensorflow-text in /home/vrsa/.local/lib/python3.10/site-packages (from keras_nlp==0.3.0) (2.15.0)\n",
            "Requirement already satisfied: astunparse>=1.6.0 in /home/vrsa/.local/lib/python3.10/site-packages (from tensorflow->keras_nlp==0.3.0) (1.6.3)\n",
            "Requirement already satisfied: flatbuffers>=23.5.26 in /home/vrsa/.local/lib/python3.10/site-packages (from tensorflow->keras_nlp==0.3.0) (23.5.26)\n",
            "Requirement already satisfied: gast!=0.5.0,!=0.5.1,!=0.5.2,>=0.2.1 in /home/vrsa/.local/lib/python3.10/site-packages (from tensorflow->keras_nlp==0.3.0) (0.5.4)\n",
            "Requirement already satisfied: google-pasta>=0.1.1 in /home/vrsa/.local/lib/python3.10/site-packages (from tensorflow->keras_nlp==0.3.0) (0.2.0)\n",
            "Requirement already satisfied: h5py>=2.9.0 in /home/vrsa/.local/lib/python3.10/site-packages (from tensorflow->keras_nlp==0.3.0) (3.10.0)\n",
            "Requirement already satisfied: libclang>=13.0.0 in /home/vrsa/.local/lib/python3.10/site-packages (from tensorflow->keras_nlp==0.3.0) (16.0.6)\n",
            "Requirement already satisfied: ml-dtypes~=0.2.0 in /home/vrsa/.local/lib/python3.10/site-packages (from tensorflow->keras_nlp==0.3.0) (0.2.0)\n",
            "Requirement already satisfied: opt-einsum>=2.3.2 in /home/vrsa/.local/lib/python3.10/site-packages (from tensorflow->keras_nlp==0.3.0) (3.3.0)\n",
            "Requirement already satisfied: protobuf!=4.21.0,!=4.21.1,!=4.21.2,!=4.21.3,!=4.21.4,!=4.21.5,<5.0.0dev,>=3.20.3 in /home/vrsa/.local/lib/python3.10/site-packages (from tensorflow->keras_nlp==0.3.0) (4.23.4)\n",
            "Requirement already satisfied: setuptools in /home/vrsa/.local/lib/python3.10/site-packages (from tensorflow->keras_nlp==0.3.0) (69.0.3)\n",
            "Requirement already satisfied: six>=1.12.0 in /usr/lib/python3/dist-packages (from tensorflow->keras_nlp==0.3.0) (1.16.0)\n",
            "Requirement already satisfied: termcolor>=1.1.0 in /home/vrsa/.local/lib/python3.10/site-packages (from tensorflow->keras_nlp==0.3.0) (2.4.0)\n",
            "Requirement already satisfied: typing-extensions>=3.6.6 in /home/vrsa/.local/lib/python3.10/site-packages (from tensorflow->keras_nlp==0.3.0) (4.9.0)\n",
            "Requirement already satisfied: wrapt<1.15,>=1.11.0 in /home/vrsa/.local/lib/python3.10/site-packages (from tensorflow->keras_nlp==0.3.0) (1.14.1)\n",
            "Requirement already satisfied: tensorflow-io-gcs-filesystem>=0.23.1 in /home/vrsa/.local/lib/python3.10/site-packages (from tensorflow->keras_nlp==0.3.0) (0.35.0)\n",
            "Requirement already satisfied: grpcio<2.0,>=1.24.3 in /home/vrsa/.local/lib/python3.10/site-packages (from tensorflow->keras_nlp==0.3.0) (1.60.0)\n",
            "Requirement already satisfied: tensorboard<2.16,>=2.15 in /home/vrsa/.local/lib/python3.10/site-packages (from tensorflow->keras_nlp==0.3.0) (2.15.1)\n",
            "Requirement already satisfied: tensorflow-estimator<2.16,>=2.15.0 in /home/vrsa/.local/lib/python3.10/site-packages (from tensorflow->keras_nlp==0.3.0) (2.15.0)\n",
            "Requirement already satisfied: keras<2.16,>=2.15.0 in /home/vrsa/.local/lib/python3.10/site-packages (from tensorflow->keras_nlp==0.3.0) (2.15.0)\n",
            "Requirement already satisfied: tensorflow-hub>=0.13.0 in /home/vrsa/.local/lib/python3.10/site-packages (from tensorflow-text->keras_nlp==0.3.0) (0.15.0)\n",
            "Requirement already satisfied: wheel<1.0,>=0.23.0 in /home/vrsa/.local/lib/python3.10/site-packages (from astunparse>=1.6.0->tensorflow->keras_nlp==0.3.0) (0.42.0)\n",
            "Requirement already satisfied: google-auth<3,>=1.6.3 in /home/vrsa/.local/lib/python3.10/site-packages (from tensorboard<2.16,>=2.15->tensorflow->keras_nlp==0.3.0) (2.25.2)\n",
            "Requirement already satisfied: google-auth-oauthlib<2,>=0.5 in /home/vrsa/.local/lib/python3.10/site-packages (from tensorboard<2.16,>=2.15->tensorflow->keras_nlp==0.3.0) (1.2.0)\n",
            "Requirement already satisfied: markdown>=2.6.8 in /home/vrsa/.local/lib/python3.10/site-packages (from tensorboard<2.16,>=2.15->tensorflow->keras_nlp==0.3.0) (3.5.1)\n",
            "Requirement already satisfied: requests<3,>=2.21.0 in /usr/lib/python3/dist-packages (from tensorboard<2.16,>=2.15->tensorflow->keras_nlp==0.3.0) (2.25.1)\n",
            "Requirement already satisfied: tensorboard-data-server<0.8.0,>=0.7.0 in /home/vrsa/.local/lib/python3.10/site-packages (from tensorboard<2.16,>=2.15->tensorflow->keras_nlp==0.3.0) (0.7.2)\n",
            "Requirement already satisfied: werkzeug>=1.0.1 in /home/vrsa/.local/lib/python3.10/site-packages (from tensorboard<2.16,>=2.15->tensorflow->keras_nlp==0.3.0) (3.0.1)\n",
            "Requirement already satisfied: cachetools<6.0,>=2.0.0 in /home/vrsa/.local/lib/python3.10/site-packages (from google-auth<3,>=1.6.3->tensorboard<2.16,>=2.15->tensorflow->keras_nlp==0.3.0) (5.3.2)\n",
            "Requirement already satisfied: pyasn1-modules>=0.2.1 in /home/vrsa/.local/lib/python3.10/site-packages (from google-auth<3,>=1.6.3->tensorboard<2.16,>=2.15->tensorflow->keras_nlp==0.3.0) (0.3.0)\n",
            "Requirement already satisfied: rsa<5,>=3.1.4 in /home/vrsa/.local/lib/python3.10/site-packages (from google-auth<3,>=1.6.3->tensorboard<2.16,>=2.15->tensorflow->keras_nlp==0.3.0) (4.9)\n",
            "Requirement already satisfied: requests-oauthlib>=0.7.0 in /home/vrsa/.local/lib/python3.10/site-packages (from google-auth-oauthlib<2,>=0.5->tensorboard<2.16,>=2.15->tensorflow->keras_nlp==0.3.0) (1.3.1)\n",
            "Requirement already satisfied: MarkupSafe>=2.1.1 in /home/vrsa/.local/lib/python3.10/site-packages (from werkzeug>=1.0.1->tensorboard<2.16,>=2.15->tensorflow->keras_nlp==0.3.0) (2.1.3)\n",
            "Requirement already satisfied: pyasn1<0.6.0,>=0.4.6 in /home/vrsa/.local/lib/python3.10/site-packages (from pyasn1-modules>=0.2.1->google-auth<3,>=1.6.3->tensorboard<2.16,>=2.15->tensorflow->keras_nlp==0.3.0) (0.5.1)\n",
            "Requirement already satisfied: oauthlib>=3.0.0 in /usr/lib/python3/dist-packages (from requests-oauthlib>=0.7.0->google-auth-oauthlib<2,>=0.5->tensorboard<2.16,>=2.15->tensorflow->keras_nlp==0.3.0) (3.2.0)\n",
            "Defaulting to user installation because normal site-packages is not writeable\n",
            "Requirement already satisfied: datasets in /home/vrsa/.local/lib/python3.10/site-packages (2.16.0)\n",
            "Requirement already satisfied: filelock in /home/vrsa/.local/lib/python3.10/site-packages (from datasets) (3.13.1)\n",
            "Requirement already satisfied: numpy>=1.17 in /home/vrsa/.local/lib/python3.10/site-packages (from datasets) (1.26.1)\n",
            "Requirement already satisfied: pyarrow>=8.0.0 in /home/vrsa/.local/lib/python3.10/site-packages (from datasets) (14.0.2)\n",
            "Requirement already satisfied: pyarrow-hotfix in /home/vrsa/.local/lib/python3.10/site-packages (from datasets) (0.6)\n",
            "Requirement already satisfied: dill<0.3.8,>=0.3.0 in /home/vrsa/.local/lib/python3.10/site-packages (from datasets) (0.3.7)\n",
            "Requirement already satisfied: pandas in /home/vrsa/.local/lib/python3.10/site-packages (from datasets) (2.1.4)\n",
            "Requirement already satisfied: requests>=2.19.0 in /usr/lib/python3/dist-packages (from datasets) (2.25.1)\n",
            "Requirement already satisfied: tqdm>=4.62.1 in /home/vrsa/.local/lib/python3.10/site-packages (from datasets) (4.66.1)\n",
            "Requirement already satisfied: xxhash in /home/vrsa/.local/lib/python3.10/site-packages (from datasets) (3.4.1)\n",
            "Requirement already satisfied: multiprocess in /home/vrsa/.local/lib/python3.10/site-packages (from datasets) (0.70.15)\n",
            "Requirement already satisfied: fsspec<=2023.10.0,>=2023.1.0 in /home/vrsa/.local/lib/python3.10/site-packages (from fsspec[http]<=2023.10.0,>=2023.1.0->datasets) (2023.10.0)\n",
            "Requirement already satisfied: aiohttp in /home/vrsa/.local/lib/python3.10/site-packages (from datasets) (3.9.1)\n",
            "Requirement already satisfied: huggingface-hub>=0.19.4 in /home/vrsa/.local/lib/python3.10/site-packages (from datasets) (0.20.1)\n",
            "Requirement already satisfied: packaging in /home/vrsa/.local/lib/python3.10/site-packages (from datasets) (23.2)\n",
            "Requirement already satisfied: pyyaml>=5.1 in /usr/lib/python3/dist-packages (from datasets) (5.4.1)\n",
            "Requirement already satisfied: attrs>=17.3.0 in /home/vrsa/.local/lib/python3.10/site-packages (from aiohttp->datasets) (23.1.0)\n",
            "Requirement already satisfied: multidict<7.0,>=4.5 in /home/vrsa/.local/lib/python3.10/site-packages (from aiohttp->datasets) (6.0.4)\n",
            "Requirement already satisfied: yarl<2.0,>=1.0 in /home/vrsa/.local/lib/python3.10/site-packages (from aiohttp->datasets) (1.9.4)\n",
            "Requirement already satisfied: frozenlist>=1.1.1 in /home/vrsa/.local/lib/python3.10/site-packages (from aiohttp->datasets) (1.4.1)\n",
            "Requirement already satisfied: aiosignal>=1.1.2 in /home/vrsa/.local/lib/python3.10/site-packages (from aiohttp->datasets) (1.3.1)\n",
            "Requirement already satisfied: async-timeout<5.0,>=4.0 in /home/vrsa/.local/lib/python3.10/site-packages (from aiohttp->datasets) (4.0.3)\n",
            "Requirement already satisfied: typing-extensions>=3.7.4.3 in /home/vrsa/.local/lib/python3.10/site-packages (from huggingface-hub>=0.19.4->datasets) (4.9.0)\n",
            "Requirement already satisfied: python-dateutil>=2.8.2 in /home/vrsa/.local/lib/python3.10/site-packages (from pandas->datasets) (2.8.2)\n",
            "Requirement already satisfied: pytz>=2020.1 in /usr/lib/python3/dist-packages (from pandas->datasets) (2022.1)\n",
            "Requirement already satisfied: tzdata>=2022.1 in /home/vrsa/.local/lib/python3.10/site-packages (from pandas->datasets) (2023.3)\n",
            "Requirement already satisfied: six>=1.5 in /usr/lib/python3/dist-packages (from python-dateutil>=2.8.2->pandas->datasets) (1.16.0)\n",
            "Requirement already satisfied: idna>=2.0 in /usr/lib/python3/dist-packages (from yarl<2.0,>=1.0->aiohttp->datasets) (3.3)\n",
            "Defaulting to user installation because normal site-packages is not writeable\n",
            "Requirement already satisfied: huggingface-hub in /home/vrsa/.local/lib/python3.10/site-packages (0.20.1)\n",
            "Requirement already satisfied: filelock in /home/vrsa/.local/lib/python3.10/site-packages (from huggingface-hub) (3.13.1)\n",
            "Requirement already satisfied: fsspec>=2023.5.0 in /home/vrsa/.local/lib/python3.10/site-packages (from huggingface-hub) (2023.10.0)\n",
            "Requirement already satisfied: requests in /usr/lib/python3/dist-packages (from huggingface-hub) (2.25.1)\n",
            "Requirement already satisfied: tqdm>=4.42.1 in /home/vrsa/.local/lib/python3.10/site-packages (from huggingface-hub) (4.66.1)\n",
            "Requirement already satisfied: pyyaml>=5.1 in /usr/lib/python3/dist-packages (from huggingface-hub) (5.4.1)\n",
            "Requirement already satisfied: typing-extensions>=3.7.4.3 in /home/vrsa/.local/lib/python3.10/site-packages (from huggingface-hub) (4.9.0)\n",
            "Requirement already satisfied: packaging>=20.9 in /home/vrsa/.local/lib/python3.10/site-packages (from huggingface-hub) (23.2)\n",
            "Defaulting to user installation because normal site-packages is not writeable\n",
            "Requirement already satisfied: nltk in /home/vrsa/.local/lib/python3.10/site-packages (3.8.1)\n",
            "Requirement already satisfied: click in /usr/lib/python3/dist-packages (from nltk) (8.0.3)\n",
            "Requirement already satisfied: joblib in /home/vrsa/.local/lib/python3.10/site-packages (from nltk) (1.3.2)\n",
            "Requirement already satisfied: regex>=2021.8.3 in /home/vrsa/.local/lib/python3.10/site-packages (from nltk) (2023.12.25)\n",
            "Requirement already satisfied: tqdm in /home/vrsa/.local/lib/python3.10/site-packages (from nltk) (4.66.1)\n",
            "Defaulting to user installation because normal site-packages is not writeable\n",
            "Requirement already satisfied: rouge-score in /home/vrsa/.local/lib/python3.10/site-packages (0.1.2)\n",
            "Requirement already satisfied: absl-py in /home/vrsa/.local/lib/python3.10/site-packages (from rouge-score) (2.0.0)\n",
            "Requirement already satisfied: nltk in /home/vrsa/.local/lib/python3.10/site-packages (from rouge-score) (3.8.1)\n",
            "Requirement already satisfied: numpy in /home/vrsa/.local/lib/python3.10/site-packages (from rouge-score) (1.26.1)\n",
            "Requirement already satisfied: six>=1.14.0 in /usr/lib/python3/dist-packages (from rouge-score) (1.16.0)\n",
            "Requirement already satisfied: click in /usr/lib/python3/dist-packages (from nltk->rouge-score) (8.0.3)\n",
            "Requirement already satisfied: joblib in /home/vrsa/.local/lib/python3.10/site-packages (from nltk->rouge-score) (1.3.2)\n",
            "Requirement already satisfied: regex>=2021.8.3 in /home/vrsa/.local/lib/python3.10/site-packages (from nltk->rouge-score) (2023.12.25)\n",
            "Requirement already satisfied: tqdm in /home/vrsa/.local/lib/python3.10/site-packages (from nltk->rouge-score) (4.66.1)\n"
          ]
        }
      ],
      "source": [
        "!pip install transformers==4.20.0\n",
        "!pip install keras_nlp==0.3.0\n",
        "!pip install datasets\n",
        "!pip install huggingface-hub\n",
        "!pip install nltk\n",
        "!pip install rouge-score"
      ]
    },
    {
      "cell_type": "code",
      "execution_count": 2,
      "metadata": {
        "id": "8xmSpgapzWGF"
      },
      "outputs": [
        {
          "name": "stderr",
          "output_type": "stream",
          "text": [
            "2024-01-04 23:54:30.431944: E external/local_xla/xla/stream_executor/cuda/cuda_dnn.cc:9261] Unable to register cuDNN factory: Attempting to register factory for plugin cuDNN when one has already been registered\n",
            "2024-01-04 23:54:30.431988: E external/local_xla/xla/stream_executor/cuda/cuda_fft.cc:607] Unable to register cuFFT factory: Attempting to register factory for plugin cuFFT when one has already been registered\n",
            "2024-01-04 23:54:30.433324: E external/local_xla/xla/stream_executor/cuda/cuda_blas.cc:1515] Unable to register cuBLAS factory: Attempting to register factory for plugin cuBLAS when one has already been registered\n",
            "2024-01-04 23:54:30.439583: I tensorflow/core/platform/cpu_feature_guard.cc:182] This TensorFlow binary is optimized to use available CPU instructions in performance-critical operations.\n",
            "To enable the following instructions: AVX2 FMA, in other operations, rebuild TensorFlow with the appropriate compiler flags.\n",
            "2024-01-04 23:54:31.151001: W tensorflow/compiler/tf2tensorrt/utils/py_utils.cc:38] TF-TRT Warning: Could not find TensorRT\n"
          ]
        }
      ],
      "source": [
        "import os\n",
        "import logging\n",
        "\n",
        "import nltk\n",
        "import numpy as np\n",
        "import tensorflow as tf\n",
        "from tensorflow import keras\n",
        "\n",
        "tf.get_logger().setLevel(logging.ERROR)\n",
        "os.environ[\"TOKENIZERS_PARALLELISM\"] = \"false\""
      ]
    },
    {
      "cell_type": "code",
      "execution_count": 3,
      "metadata": {
        "id": "FbsI2PVVzYIc"
      },
      "outputs": [],
      "source": [
        "import keras_nlp"
      ]
    },
    {
      "cell_type": "code",
      "execution_count": 4,
      "metadata": {
        "id": "Lc9TaPxqzZRb"
      },
      "outputs": [
        {
          "name": "stderr",
          "output_type": "stream",
          "text": [
            "/home/vrsa/.local/lib/python3.10/site-packages/tqdm/auto.py:21: TqdmWarning: IProgress not found. Please update jupyter and ipywidgets. See https://ipywidgets.readthedocs.io/en/stable/user_install.html\n",
            "  from .autonotebook import tqdm as notebook_tqdm\n"
          ]
        }
      ],
      "source": [
        "from transformers import AutoTokenizer\n",
        "from transformers import TFAutoModelForSeq2SeqLM, DataCollatorForSeq2Seq\n",
        "from datasets  import load_dataset\n"
      ]
    },
    {
      "cell_type": "code",
      "execution_count": 5,
      "metadata": {},
      "outputs": [],
      "source": [
        "import logging\n",
        "logging.getLogger(\"external.local_xla.xla.stream_executor.cuda\").setLevel(logging.ERROR)\n",
        "logging.getLogger(\"tensorflow\").setLevel(logging.ERROR)\n",
        "tf.get_logger().setLevel(logging.WARN)\n"
      ]
    },
    {
      "cell_type": "code",
      "execution_count": 6,
      "metadata": {},
      "outputs": [
        {
          "name": "stderr",
          "output_type": "stream",
          "text": [
            "[nltk_data] Downloading package stopwords to /home/vrsa/nltk_data...\n",
            "[nltk_data]   Package stopwords is already up-to-date!\n"
          ]
        },
        {
          "data": {
            "text/plain": [
              "True"
            ]
          },
          "execution_count": 6,
          "metadata": {},
          "output_type": "execute_result"
        }
      ],
      "source": [
        "import nltk\n",
        "from nltk.corpus import stopwords\n",
        "import pandas as pd\n",
        "import re\n",
        "import numpy as np\n",
        "\n",
        "nltk.download('stopwords')"
      ]
    },
    {
      "cell_type": "code",
      "execution_count": 7,
      "metadata": {},
      "outputs": [],
      "source": [
        "contractions = {\n",
        "\"ain't\": \"am not\",\n",
        "\"aren't\": \"are not\",\n",
        "\"can't\": \"cannot\",\n",
        "\"can't've\": \"cannot have\",\n",
        "\"'cause\": \"because\",\n",
        "\"could've\": \"could have\",\n",
        "\"couldn't\": \"could not\",\n",
        "\"couldn't've\": \"could not have\",\n",
        "\"didn't\": \"did not\",\n",
        "\"doesn't\": \"does not\",\n",
        "\"don't\": \"do not\",\n",
        "\"hadn't\": \"had not\",\n",
        "\"hadn't've\": \"had not have\",\n",
        "\"hasn't\": \"has not\",\n",
        "\"haven't\": \"have not\",\n",
        "\"he'd\": \"he would\",\n",
        "\"he'd've\": \"he would have\",\n",
        "\"he'll\": \"he will\",\n",
        "\"he's\": \"he is\",\n",
        "\"how'd\": \"how did\",\n",
        "\"how'll\": \"how will\",\n",
        "\"how's\": \"how is\",\n",
        "\"i'd\": \"i would\",\n",
        "\"i'll\": \"i will\",\n",
        "\"i'm\": \"i am\",\n",
        "\"i've\": \"i have\",\n",
        "\"isn't\": \"is not\",\n",
        "\"it'd\": \"it would\",\n",
        "\"it'll\": \"it will\",\n",
        "\"it's\": \"it is\",\n",
        "\"let's\": \"let us\",\n",
        "\"ma'am\": \"madam\",\n",
        "\"mayn't\": \"may not\",\n",
        "\"might've\": \"might have\",\n",
        "\"mightn't\": \"might not\",\n",
        "\"must've\": \"must have\",\n",
        "\"mustn't\": \"must not\",\n",
        "\"needn't\": \"need not\",\n",
        "\"oughtn't\": \"ought not\",\n",
        "\"shan't\": \"shall not\",\n",
        "\"sha'n't\": \"shall not\",\n",
        "\"she'd\": \"she would\",\n",
        "\"she'll\": \"she will\",\n",
        "\"she's\": \"she is\",\n",
        "\"should've\": \"should have\",\n",
        "\"shouldn't\": \"should not\",\n",
        "\"that'd\": \"that would\",\n",
        "\"that's\": \"that is\",\n",
        "\"there'd\": \"there had\",\n",
        "\"there's\": \"there is\",\n",
        "\"they'd\": \"they would\",\n",
        "\"they'll\": \"they will\",\n",
        "\"they're\": \"they are\",\n",
        "\"they've\": \"they have\",\n",
        "\"wasn't\": \"was not\",\n",
        "\"we'd\": \"we would\",\n",
        "\"we'll\": \"we will\",\n",
        "\"we're\": \"we are\",\n",
        "\"we've\": \"we have\",\n",
        "\"weren't\": \"were not\",\n",
        "\"what'll\": \"what will\",\n",
        "\"what're\": \"what are\",\n",
        "\"what's\": \"what is\",\n",
        "\"what've\": \"what have\",\n",
        "\"where'd\": \"where did\",\n",
        "\"where's\": \"where is\",\n",
        "\"who'll\": \"who will\",\n",
        "\"who's\": \"who is\",\n",
        "\"won't\": \"will not\",\n",
        "\"wouldn't\": \"would not\",\n",
        "\"you'd\": \"you would\",\n",
        "\"you'll\": \"you will\",\n",
        "\"you're\": \"you are\"\n",
        "}"
      ]
    },
    {
      "cell_type": "code",
      "execution_count": 8,
      "metadata": {},
      "outputs": [],
      "source": [
        "import re\n",
        "from nltk.corpus import stopwords\n",
        "\n",
        "def clean_text(text):\n",
        "    text = text.lower()\n",
        "\n",
        "    text = text.split()\n",
        "    stops = set(stopwords.words(\"english\"))\n",
        "    text = [w for w in text if not w in stops]\n",
        "    text = \" \".join(text)\n",
        "\n",
        "    text = re.sub(r'https?:\\/\\/.*[\\r\\n]*', '', text, flags=re.MULTILINE)\n",
        "    text = re.sub(r'\\\\', ' ', text)\n",
        "    text = re.sub(r'\\'', ' ', text)\n",
        "    text = re.sub(r'-:,', '', text)\n",
        "    text = re.sub(r'\\.\\b', '', text)\n",
        "    text = re.sub(r'--|,', '', text)\n",
        "    text = re.sub(r'\\b\\b', '', text)\n",
        "    text = re.sub(r'\\b\\.\\B', '', text)\n",
        "\n",
        "    text = text.split()\n",
        "    new_text = []\n",
        "    for word in text:\n",
        "        if word in contractions:\n",
        "            new_text.append(contractions[word])\n",
        "        else:\n",
        "            new_text.append(word)\n",
        "    text = \" \".join(new_text)\n",
        "\n",
        "   \n",
        "\n",
        "\n",
        "    \n",
        "\n",
        "    return text\n"
      ]
    },
    {
      "cell_type": "code",
      "execution_count": 9,
      "metadata": {
        "id": "Nikpe_bbzc_G"
      },
      "outputs": [],
      "source": [
        "model_path = \"t5-small\"\n",
        "data_path = \"cnn_dailymail\", \"3.0.0\""
      ]
    },
    {
      "cell_type": "code",
      "execution_count": 10,
      "metadata": {
        "id": "hFD8rdfBzh50"
      },
      "outputs": [],
      "source": [
        "dataset = load_dataset(\"cnn_dailymail\", \"3.0.0\")"
      ]
    },
    {
      "cell_type": "code",
      "execution_count": 11,
      "metadata": {
        "id": "NG-B5D6g9z9e"
      },
      "outputs": [],
      "source": [
        "train_dataset = dataset[\"train\"]\n",
        "\n",
        "total_examples = len(train_dataset)\n",
        "\n",
        "half_index = total_examples // 2\n",
        "third_index = total_examples // 3\n",
        "\n",
        "# dataset prevelik za moje računalo (thats  what she said)\n",
        "train_dataset = train_dataset.select(range(third_index))"
      ]
    },
    {
      "cell_type": "code",
      "execution_count": 12,
      "metadata": {
        "colab": {
          "base_uri": "https://localhost:8080/"
        },
        "id": "9JsqtpYBISfH",
        "outputId": "e9e3e1b7-65b9-4231-d7c3-818b60e73bd4"
      },
      "outputs": [
        {
          "name": "stdout",
          "output_type": "stream",
          "text": [
            "{'article': 'LONDON, England (Reuters) -- Harry Potter star Daniel Radcliffe gains access to a reported £20 million ($41.1 million) fortune as he turns 18 on Monday, but he insists the money won\\'t cast a spell on him. Daniel Radcliffe as Harry Potter in \"Harry Potter and the Order of the Phoenix\" To the disappointment of gossip columnists around the world, the young actor says he has no plans to fritter his cash away on fast cars, drink and celebrity parties. \"I don\\'t plan to be one of those people who, as soon as they turn 18, suddenly buy themselves a massive sports car collection or something similar,\" he told an Australian interviewer earlier this month. \"I don\\'t think I\\'ll be particularly extravagant. \"The things I like buying are things that cost about 10 pounds -- books and CDs and DVDs.\" At 18, Radcliffe will be able to gamble in a casino, buy a drink in a pub or see the horror film \"Hostel: Part II,\" currently six places below his number one movie on the UK box office chart. Details of how he\\'ll mark his landmark birthday are under wraps. His agent and publicist had no comment on his plans. \"I\\'ll definitely have some sort of party,\" he said in an interview. \"Hopefully none of you will be reading about it.\" Radcliffe\\'s earnings from the first five Potter films have been held in a trust fund which he has not been able to touch. Despite his growing fame and riches, the actor says he is keeping his feet firmly on the ground. \"People are always looking to say \\'kid star goes off the rails,\\'\" he told reporters last month. \"But I try very hard not to go that way because it would be too easy for them.\" His latest outing as the boy wizard in \"Harry Potter and the Order of the Phoenix\" is breaking records on both sides of the Atlantic and he will reprise the role in the last two films.  Watch I-Reporter give her review of Potter\\'s latest » . There is life beyond Potter, however. The Londoner has filmed a TV movie called \"My Boy Jack,\" about author Rudyard Kipling and his son, due for release later this year. He will also appear in \"December Boys,\" an Australian film about four boys who escape an orphanage. Earlier this year, he made his stage debut playing a tortured teenager in Peter Shaffer\\'s \"Equus.\" Meanwhile, he is braced for even closer media scrutiny now that he\\'s legally an adult: \"I just think I\\'m going to be more sort of fair game,\" he told Reuters. E-mail to a friend . Copyright 2007 Reuters. All rights reserved.This material may not be published, broadcast, rewritten, or redistributed.', 'highlights': \"Harry Potter star Daniel Radcliffe gets £20M fortune as he turns 18 Monday .\\nYoung actor says he has no plans to fritter his cash away .\\nRadcliffe's earnings from first five Potter films have been held in trust fund .\", 'id': '42c027e4ff9730fbb3de84c1af0d2c506e41c3e4'}\n"
          ]
        }
      ],
      "source": [
        "example = train_dataset[0]  \n",
        "print(example)"
      ]
    },
    {
      "cell_type": "code",
      "execution_count": 13,
      "metadata": {
        "id": "JEdEoEZzIaUc"
      },
      "outputs": [],
      "source": [
        "tokenizer = AutoTokenizer.from_pretrained(model_path)\n"
      ]
    },
    {
      "cell_type": "code",
      "execution_count": 14,
      "metadata": {},
      "outputs": [
        {
          "name": "stderr",
          "output_type": "stream",
          "text": [
            "Parameter 'function'=<function <lambda> at 0x7f94a12d32e0> of the transform datasets.arrow_dataset.Dataset._map_single couldn't be hashed properly, a random hash was used instead. Make sure your transforms and parameters are serializable with pickle or dill for the dataset fingerprinting and caching to work. If you reuse this transform, the caching mechanism will consider it to be different from the previous calls and recompute everything. This warning is only showed once. Subsequent hashing failures won't be showed.\n",
            "Map: 100%|██████████| 95704/95704 [00:50<00:00, 1883.65 examples/s]\n"
          ]
        }
      ],
      "source": [
        "train_dataset = train_dataset.map(lambda example: {'article': clean_text(example['article']),\n",
        "                                                    'highlights': clean_text(example['highlights'])})\n"
      ]
    },
    {
      "cell_type": "code",
      "execution_count": 15,
      "metadata": {},
      "outputs": [
        {
          "name": "stdout",
          "output_type": "stream",
          "text": [
            "{'article': 'london england (reuters) harry potter star daniel radcliffe gains access reported £20 million ($411 million) fortune turns 18 monday insists money cast spell him daniel radcliffe harry potter \"harry potter order phoenix\" disappointment gossip columnists around world young actor says plans fritter cash away fast cars drink celebrity parties \"i plan one people who soon turn 18 suddenly buy massive sports car collection something similar\" told australian interviewer earlier month \"i think i ll particularly extravagant \"the things like buying things cost 10 pounds books cds dvds\" 18 radcliffe able gamble casino buy drink pub see horror film \"hostel: part ii\" currently six places number one movie uk box office chart details he ll mark landmark birthday wraps agent publicist comment plans \"i ll definitely sort party\" said interview \"hopefully none reading it\" radcliffe s earnings first five potter films held trust fund able touch despite growing fame riches actor says keeping feet firmly ground \"people always looking say kid star goes rails \" told reporters last month \"but try hard go way would easy them\" latest outing boy wizard \"harry potter order phoenix\" breaking records sides atlantic reprise role last two films watch i-reporter give review potter s latest » . life beyond potter however londoner filmed tv movie called \"my boy jack\" author rudyard kipling son due release later year also appear \"december boys\" australian film four boys escape orphanage earlier year made stage debut playing tortured teenager peter shaffer s \"equus\" meanwhile braced even closer media scrutiny he s legally adult: \"i think i m going sort fair game\" told reuters e-mail friend . copyright 2007 reuters rights reservedthis material may published broadcast rewritten redistributed', 'highlights': 'harry potter star daniel radcliffe gets £20m fortune turns 18 monday . young actor says plans fritter cash away . radcliffe s earnings first five potter films held trust fund .', 'id': '42c027e4ff9730fbb3de84c1af0d2c506e41c3e4'}\n"
          ]
        }
      ],
      "source": [
        "example = train_dataset[0]  \n",
        "print(example)"
      ]
    },
    {
      "cell_type": "code",
      "execution_count": 16,
      "metadata": {
        "id": "HaAgzelLI2h5"
      },
      "outputs": [],
      "source": [
        "def tokenization(examples):\n",
        "    inputs = ['summarize: ' + doc for doc in examples[\"article\"]]\n",
        "    tok = tokenizer(inputs, truncation=True, padding = True, return_tensors='tf')\n",
        "\n",
        "    with tokenizer.as_target_tokenizer():\n",
        "        labels = tokenizer(examples['highlights'],truncation=True, padding = True, return_tensors='tf')\n",
        "\n",
        "    tok['labels'] = labels['input_ids']\n",
        "\n",
        "    return {'input_ids': tok['input_ids'].numpy(),\n",
        "            'labels': tok['labels'].numpy(),\n",
        "            'attention_mask': tok['attention_mask'].numpy()}"
      ]
    },
    {
      "cell_type": "code",
      "execution_count": 17,
      "metadata": {
        "colab": {
          "base_uri": "https://localhost:8080/",
          "height": 81,
          "referenced_widgets": [
            "34232576f3b6420d851ce080d4c6ae72",
            "3296f4ce65ff475db4590fde83c96187",
            "3d65fc615c684cceb50cc3d4f98a2500",
            "639c2aa4130445f8a77d196a71427f3f",
            "75e8beb487694f42b3f2b035b5893f81",
            "6627caf02f3647d097512e413eaccaad",
            "2d9b8c334a894b55b695d8b79215d500",
            "172ff96a39dd40e6bf944a9a487535a4",
            "ffdbd5e2e2ca40a69fc74186cd24772c",
            "9e6905b5dbbc46009d357c3c3d733264",
            "2ba1d9ecbea848d38d42ac89360a2541",
            "afd257003cfb465fb70f331b21f1d8b1",
            "a3668db58e5b47e081a655dad7c5c291",
            "a8aea4a069e048ce97ba3845f3c2b5ef",
            "2098afb8977d4ac1a64551146289aec7",
            "72e6a09931ca493a9a2e199ad99cfaa2",
            "5b46b51b66d849e6ab48554a08a6a273",
            "967b2b441c3e4962864fe6d0d6d72889",
            "81ad797b1e174918953f7d9f6d89b9ae",
            "e8f66f66a0d949b0aeb508bf519e6093",
            "44748588272a4d7c981c5a68fc4c5dac",
            "40fc029c0a404320bf30d44a837d3a33"
          ]
        },
        "id": "RjWZSSuOJBZn",
        "outputId": "e034fe94-e0cc-4f92-9c83-12d61e86ea31"
      },
      "outputs": [
        {
          "name": "stderr",
          "output_type": "stream",
          "text": [
            "Map:   0%|          | 0/95704 [00:00<?, ? examples/s]2024-01-04 23:55:41.083601: I external/local_xla/xla/stream_executor/cuda/cuda_executor.cc:901] successful NUMA node read from SysFS had negative value (-1), but there must be at least one NUMA node, so returning NUMA node zero. See more at https://github.com/torvalds/linux/blob/v6.0/Documentation/ABI/testing/sysfs-bus-pci#L344-L355\n",
            "2024-01-04 23:55:41.084719: I external/local_xla/xla/stream_executor/cuda/cuda_executor.cc:901] successful NUMA node read from SysFS had negative value (-1), but there must be at least one NUMA node, so returning NUMA node zero. See more at https://github.com/torvalds/linux/blob/v6.0/Documentation/ABI/testing/sysfs-bus-pci#L344-L355\n",
            "2024-01-04 23:55:41.084920: I external/local_xla/xla/stream_executor/cuda/cuda_executor.cc:901] successful NUMA node read from SysFS had negative value (-1), but there must be at least one NUMA node, so returning NUMA node zero. See more at https://github.com/torvalds/linux/blob/v6.0/Documentation/ABI/testing/sysfs-bus-pci#L344-L355\n",
            "2024-01-04 23:55:41.086430: I external/local_xla/xla/stream_executor/cuda/cuda_executor.cc:901] successful NUMA node read from SysFS had negative value (-1), but there must be at least one NUMA node, so returning NUMA node zero. See more at https://github.com/torvalds/linux/blob/v6.0/Documentation/ABI/testing/sysfs-bus-pci#L344-L355\n",
            "2024-01-04 23:55:41.086651: I external/local_xla/xla/stream_executor/cuda/cuda_executor.cc:901] successful NUMA node read from SysFS had negative value (-1), but there must be at least one NUMA node, so returning NUMA node zero. See more at https://github.com/torvalds/linux/blob/v6.0/Documentation/ABI/testing/sysfs-bus-pci#L344-L355\n",
            "2024-01-04 23:55:41.086841: I external/local_xla/xla/stream_executor/cuda/cuda_executor.cc:901] successful NUMA node read from SysFS had negative value (-1), but there must be at least one NUMA node, so returning NUMA node zero. See more at https://github.com/torvalds/linux/blob/v6.0/Documentation/ABI/testing/sysfs-bus-pci#L344-L355\n",
            "2024-01-04 23:55:41.168881: I external/local_xla/xla/stream_executor/cuda/cuda_executor.cc:901] successful NUMA node read from SysFS had negative value (-1), but there must be at least one NUMA node, so returning NUMA node zero. See more at https://github.com/torvalds/linux/blob/v6.0/Documentation/ABI/testing/sysfs-bus-pci#L344-L355\n",
            "2024-01-04 23:55:41.169112: I external/local_xla/xla/stream_executor/cuda/cuda_executor.cc:901] successful NUMA node read from SysFS had negative value (-1), but there must be at least one NUMA node, so returning NUMA node zero. See more at https://github.com/torvalds/linux/blob/v6.0/Documentation/ABI/testing/sysfs-bus-pci#L344-L355\n",
            "2024-01-04 23:55:41.169306: I external/local_xla/xla/stream_executor/cuda/cuda_executor.cc:901] successful NUMA node read from SysFS had negative value (-1), but there must be at least one NUMA node, so returning NUMA node zero. See more at https://github.com/torvalds/linux/blob/v6.0/Documentation/ABI/testing/sysfs-bus-pci#L344-L355\n",
            "2024-01-04 23:55:41.169457: I tensorflow/core/common_runtime/gpu/gpu_device.cc:1929] Created device /job:localhost/replica:0/task:0/device:GPU:0 with 2260 MB memory:  -> device: 0, name: NVIDIA GeForce RTX 3050 Ti Laptop GPU, pci bus id: 0000:01:00.0, compute capability: 8.6\n",
            "Map: 100%|██████████| 95704/95704 [02:03<00:00, 773.48 examples/s]\n"
          ]
        }
      ],
      "source": [
        "tokenized_dataset = train_dataset.map(tokenization, batched=True)"
      ]
    },
    {
      "cell_type": "code",
      "execution_count": 18,
      "metadata": {
        "id": "e87jyyulJeZ-"
      },
      "outputs": [],
      "source": [
        "processed_data = tokenized_dataset.remove_columns(['article','highlights', 'id'])"
      ]
    },
    {
      "cell_type": "code",
      "execution_count": 19,
      "metadata": {
        "colab": {
          "base_uri": "https://localhost:8080/"
        },
        "id": "tgPtY2LNJhSO",
        "outputId": "2f1a897e-71d6-4fb7-8eef-fec17fa03518"
      },
      "outputs": [
        {
          "data": {
            "text/plain": [
              "Dataset({\n",
              "    features: ['input_ids', 'labels', 'attention_mask'],\n",
              "    num_rows: 95704\n",
              "})"
            ]
          },
          "execution_count": 19,
          "metadata": {},
          "output_type": "execute_result"
        }
      ],
      "source": [
        "processed_data"
      ]
    },
    {
      "cell_type": "code",
      "execution_count": 20,
      "metadata": {
        "colab": {
          "base_uri": "https://localhost:8080/"
        },
        "id": "46lsPVmpIt5i",
        "outputId": "b7baf57f-a61f-4e26-cc6d-035622a9e5aa"
      },
      "outputs": [
        {
          "data": {
            "text/plain": [
              "DatasetDict({\n",
              "    train: Dataset({\n",
              "        features: ['input_ids', 'labels', 'attention_mask'],\n",
              "        num_rows: 23926\n",
              "    })\n",
              "    test: Dataset({\n",
              "        features: ['input_ids', 'labels', 'attention_mask'],\n",
              "        num_rows: 4786\n",
              "    })\n",
              "})"
            ]
          },
          "execution_count": 20,
          "metadata": {},
          "output_type": "execute_result"
        }
      ],
      "source": [
        "final_dataset = processed_data.train_test_split(\n",
        "    train_size=0.25, test_size=0.05\n",
        ")\n",
        "final_dataset"
      ]
    },
    {
      "cell_type": "code",
      "execution_count": 21,
      "metadata": {
        "colab": {
          "base_uri": "https://localhost:8080/"
        },
        "id": "epWt7lWoJjf1",
        "outputId": "1edec2c4-33bd-4afb-b59b-188279a45843"
      },
      "outputs": [
        {
          "name": "stderr",
          "output_type": "stream",
          "text": [
            "2024-01-04 23:57:44.627905: I external/local_tsl/tsl/platform/default/subprocess.cc:304] Start cannot spawn child process: No such file or directory\n",
            "All model checkpoint layers were used when initializing TFT5ForConditionalGeneration.\n",
            "\n",
            "All the layers of TFT5ForConditionalGeneration were initialized from the model checkpoint at t5-small.\n",
            "If your task is similar to the task the model of the checkpoint was trained on, you can already use TFT5ForConditionalGeneration for predictions without further training.\n"
          ]
        }
      ],
      "source": [
        "model = TFAutoModelForSeq2SeqLM.from_pretrained(model_path)"
      ]
    },
    {
      "cell_type": "code",
      "execution_count": 22,
      "metadata": {},
      "outputs": [],
      "source": [
        "import tensorflow as tf\n",
        "tf.keras.backend.clear_session()"
      ]
    },
    {
      "cell_type": "code",
      "execution_count": 23,
      "metadata": {
        "id": "8PLKfVnrJm-S"
      },
      "outputs": [],
      "source": [
        "data_collator = DataCollatorForSeq2Seq(tokenizer=tokenizer, model= model, return_tensors=\"tf\")"
      ]
    },
    {
      "cell_type": "code",
      "execution_count": 24,
      "metadata": {
        "id": "xCr9tktbJptd"
      },
      "outputs": [
        {
          "name": "stderr",
          "output_type": "stream",
          "text": [
            "/home/vrsa/.local/lib/python3.10/site-packages/datasets/arrow_dataset.py:400: FutureWarning: The output of `to_tf_dataset` will change when a passing single element list for `labels` or `columns` in the next datasets version. To return a tuple structure rather than dict, pass a single string.\n",
            "Old behaviour: columns=['a'], labels=['labels'] -> (tf.Tensor, tf.Tensor)  \n",
            "             : columns='a', labels='labels' -> (tf.Tensor, tf.Tensor)  \n",
            "New behaviour: columns=['a'],labels=['labels'] -> ({'a': tf.Tensor}, {'labels': tf.Tensor})  \n",
            "             : columns='a', labels='labels' -> (tf.Tensor, tf.Tensor) \n",
            "  warnings.warn(\n"
          ]
        }
      ],
      "source": [
        "train_dataset = model.prepare_tf_dataset(final_dataset['train'], batch_size=1, tokenizer= tokenizer, collate_fn=data_collator, shuffle=True, drop_remainder=True)"
      ]
    },
    {
      "cell_type": "code",
      "execution_count": 25,
      "metadata": {
        "id": "8l1TMiDKJrw_"
      },
      "outputs": [],
      "source": [
        "test_dataset = model.prepare_tf_dataset(final_dataset['test'], batch_size=2, tokenizer= tokenizer, collate_fn=data_collator, shuffle=False, drop_remainder=True)"
      ]
    },
    {
      "cell_type": "code",
      "execution_count": 26,
      "metadata": {
        "colab": {
          "base_uri": "https://localhost:8080/"
        },
        "id": "WawjhhSJJv6X",
        "outputId": "ea0182ac-c652-4cb5-8973-25ef468cd36b"
      },
      "outputs": [
        {
          "name": "stderr",
          "output_type": "stream",
          "text": [
            "No loss specified in compile() - the model's internal loss computation will be used as the loss. Don't panic - this is a common way to train TensorFlow models in Transformers! To disable this behaviour please pass a loss argument, or explicitly pass `loss=None` if you do not want your model to compute a loss.\n"
          ]
        }
      ],
      "source": [
        "optimizer = keras.optimizers.Adam(learning_rate=2e-5)\n",
        "model.compile(optimizer=optimizer)"
      ]
    },
    {
      "cell_type": "code",
      "execution_count": 27,
      "metadata": {
        "id": "EwUr2CvSJxjY"
      },
      "outputs": [],
      "source": [
        "rouge_l = keras_nlp.metrics.RougeL()"
      ]
    },
    {
      "cell_type": "code",
      "execution_count": 28,
      "metadata": {
        "id": "QkTG_DUhJzki"
      },
      "outputs": [],
      "source": [
        "def metric_fn(eval_predictions):\n",
        "    predictions, labels = eval_predictions\n",
        "    decoded_predictions = tokenizer.batch_decode(predictions, skip_special_tokens=True)\n",
        "    for label in labels:\n",
        "        label[label < 0] = tokenizer.pad_token_id  \n",
        "    decoded_labels = tokenizer.batch_decode(labels, skip_special_tokens=True)\n",
        "    result = rouge_l(decoded_labels, decoded_predictions)\n",
        "    result = {\"RougeL\": result[\"f1_score\"]}\n",
        "\n",
        "    return result"
      ]
    },
    {
      "cell_type": "code",
      "execution_count": 29,
      "metadata": {
        "id": "D3lrhTagJ0TO"
      },
      "outputs": [],
      "source": [
        "from transformers.keras_callbacks import KerasMetricCallback\n",
        "\n",
        "metric_callback = KerasMetricCallback(\n",
        "    metric_fn, eval_dataset=test_dataset)"
      ]
    },
    {
      "cell_type": "code",
      "execution_count": 30,
      "metadata": {
        "id": "mB7MGt6cJ174"
      },
      "outputs": [],
      "source": [
        "callbacks = [metric_callback]"
      ]
    },
    {
      "cell_type": "code",
      "execution_count": 31,
      "metadata": {
        "colab": {
          "base_uri": "https://localhost:8080/"
        },
        "id": "nHNxWJB5J6tV",
        "outputId": "5b970edc-6aa6-4f65-f7a2-dce5d253a170"
      },
      "outputs": [
        {
          "name": "stdout",
          "output_type": "stream",
          "text": [
            "Epoch 1/3\n"
          ]
        },
        {
          "name": "stderr",
          "output_type": "stream",
          "text": [
            "2024-01-04 23:57:58.873707: I external/local_xla/xla/service/service.cc:168] XLA service 0x7f9362e82db0 initialized for platform CUDA (this does not guarantee that XLA will be used). Devices:\n",
            "2024-01-04 23:57:58.873736: I external/local_xla/xla/service/service.cc:176]   StreamExecutor device (0): NVIDIA GeForce RTX 3050 Ti Laptop GPU, Compute Capability 8.6\n",
            "2024-01-04 23:57:58.879064: I tensorflow/compiler/mlir/tensorflow/utils/dump_mlir_util.cc:269] disabling MLIR crash reproducer, set env var `MLIR_CRASH_REPRODUCER_DIRECTORY` to enable.\n",
            "2024-01-04 23:57:58.892305: I external/local_xla/xla/stream_executor/cuda/cuda_dnn.cc:454] Loaded cuDNN version 8902\n",
            "WARNING: All log messages before absl::InitializeLog() is called are written to STDERR\n",
            "I0000 00:00:1704409078.944206   33544 device_compiler.h:186] Compiled cluster using XLA!  This line is logged at most once for the lifetime of the process.\n"
          ]
        },
        {
          "name": "stdout",
          "output_type": "stream",
          "text": [
            "23926/23926 [==============================] - 2347s 97ms/step - loss: 1.2685 - val_loss: 1.0977\n",
            "Epoch 2/3\n",
            "23926/23926 [==============================] - 2335s 98ms/step - loss: 1.1745 - val_loss: 1.0856\n",
            "Epoch 3/3\n",
            "23926/23926 [==============================] - 2333s 98ms/step - loss: 1.1477 - val_loss: 1.0737\n"
          ]
        },
        {
          "data": {
            "text/plain": [
              "<keras.src.callbacks.History at 0x7f949835e860>"
            ]
          },
          "execution_count": 31,
          "metadata": {},
          "output_type": "execute_result"
        }
      ],
      "source": [
        "model.fit(train_dataset, validation_data=test_dataset, epochs=3)"
      ]
    },
    {
      "cell_type": "code",
      "execution_count": 44,
      "metadata": {},
      "outputs": [],
      "source": [
        "#model.save(\"t5_model.h5\")"
      ]
    },
    {
      "cell_type": "code",
      "execution_count": 34,
      "metadata": {
        "id": "7VwSuYymJ_sR"
      },
      "outputs": [],
      "source": [
        "from transformers import pipeline"
      ]
    },
    {
      "cell_type": "code",
      "execution_count": 35,
      "metadata": {
        "id": "wfryifuVKALC"
      },
      "outputs": [],
      "source": [
        "pipe = pipeline(\"summarization\", model=model, tokenizer=tokenizer, framework=\"tf\")"
      ]
    },
    {
      "cell_type": "code",
      "execution_count": 38,
      "metadata": {
        "colab": {
          "base_uri": "https://localhost:8080/"
        },
        "id": "Rspef3aGKBlx",
        "outputId": "d4e4f551-ec94-4f9b-942c-d03657400cb1"
      },
      "outputs": [
        {
          "data": {
            "text/plain": [
              "'BREMEN, Germany -- Carlos Alberto, who scored in FC Porto\\'s Champions League final victory against Monaco in 2004, has joined Bundesliga club Werder Bremen for a club record fee of  7.8 million euros ($10.7 million). Carlos Alberto enjoyed success at FC Porto under Jose Mourinho. \"I\\'m here to win titles with Werder,\" the 22-year-old said after his first training session with his new club. \"I like Bremen and would only have wanted to come here.\" Carlos Alberto started his career with Fluminense, and helped them to lift the Campeonato Carioca in 2002. In January 2004 he moved on to FC Porto, who were coached by José Mourinho, and the club won the Portuguese title as well as the Champions League. Early in 2005, he moved to Corinthians, where he impressed as they won the Brasileirão,but in 2006 Corinthians had a poor season and Carlos Alberto found himself at odds with manager, Emerson Leão. Their poor relationship came to a climax at a Copa Sul-Americana game against Club Atlético Lanús, and Carlos Alberto declared that he would not play for Corinthians again while Leão remained as manager. Since January this year he has been on loan with his first club Fluminense. Bundesliga champions VfB Stuttgart said on Sunday that they would sign a loan agreement with Real Zaragoza on Monday for Ewerthon, the third top Brazilian player to join the German league in three days. A VfB spokesman said Ewerthon, who played in the Bundesliga for Borussia Dortmund from 2001 to 2005, was expected to join the club for their pre-season training in Austria on Monday. On Friday, Ailton returned to Germany where he was the league\\'s top scorer in 2004, signing a one-year deal with Duisburg on a transfer from Red Star Belgrade. E-mail to a friend .'"
            ]
          },
          "execution_count": 38,
          "metadata": {},
          "output_type": "execute_result"
        }
      ],
      "source": [
        "dataset['train'][12]['article']"
      ]
    },
    {
      "cell_type": "code",
      "execution_count": 40,
      "metadata": {
        "id": "dw6xThLbVdTj"
      },
      "outputs": [],
      "source": [
        "input_text = dataset['train'][12]['article']\n",
        "\n",
        "summary = pipe(input_text)\n"
      ]
    },
    {
      "cell_type": "code",
      "execution_count": 41,
      "metadata": {
        "colab": {
          "base_uri": "https://localhost:8080/"
        },
        "id": "Qzk1_cHfVm-G",
        "outputId": "b7494cda-35d4-45cd-e722-ef6fbda2dc64"
      },
      "outputs": [
        {
          "data": {
            "text/plain": [
              "[{'summary_text': \"Carlos Alberto joins Werder Bremen for a club record fee $10 million . 22-year-old scored in FC Porto's champions league final win against Monaco 2004 . he started career with fluminense and helped lift campeonato .\"}]"
            ]
          },
          "execution_count": 41,
          "metadata": {},
          "output_type": "execute_result"
        }
      ],
      "source": [
        "summary"
      ]
    },
    {
      "cell_type": "code",
      "execution_count": 43,
      "metadata": {},
      "outputs": [],
      "source": [
        "article_summaries = {}\n",
        "\n",
        "for i in range(10):\n",
        "    article_text = dataset['train'][i]['article']\n",
        "    \n",
        "    summary = pipe(article_text)\n",
        "    \n",
        "    article_summaries[f\"Article_{i+1}\"] = {\n",
        "        'article': article_text,\n",
        "        'summary': summary\n",
        "    }\n"
      ]
    },
    {
      "cell_type": "code",
      "execution_count": 45,
      "metadata": {},
      "outputs": [],
      "source": [
        "import json\n",
        "output_file_path = 'article_summaries.json'\n",
        "with open(output_file_path, 'w') as json_file:\n",
        "    json.dump(article_summaries, json_file, indent=2)"
      ]
    },
    {
      "cell_type": "code",
      "execution_count": 46,
      "metadata": {},
      "outputs": [
        {
          "name": "stdout",
          "output_type": "stream",
          "text": [
            "Croatia had the lowest number of births in history last year\n",
            "\n",
            "Written by: Branimir Perković\n",
            "22:30, January 4, 2024.\n",
            "Croatia had the lowest number of births in history last year\n",
            "Photo: Shutterstock\n",
            "CROATIA is in a very difficult situation demographically, both due to emigration and the decline in the number of births. These two problems are actually connected, because mostly young people are emigrating who are just starting or in the phase of creating a family, and thus the potential for having children in the country is decreasing.\n",
            "\n",
            "In terms of demographic problems, Croatia is not unique in the world, but it is one of the most affected countries. The problems with the decline in the number of children born throughout Europe, the astonishing decline in the total number of births in China in recent years, the inability of South Korea and Japan to slow down the rapid aging of the population and the demographic decline in the USA testify that this is a global problem.\n",
            "AD\n",
            "\n",
            "Record low number of births\n",
            "According to the provisional data of the State Statistical Office (DZS), 2023 is the worst year in the history of Croatia in terms of the number of births. By the end of November, less than 30,000 children were born, and judging by the historical trends for December, this means that there will be less than 33,000 births in total for the year.\n",
            "\n",
            "For comparison, 42 thousand children were born in 2011. This is a drastic drop (approx. 9 thousand) in a short period, and there are no indications that the situation will improve.\n",
            "\n",
            "More than 3,000 children were not born in any month of 2023, which was not recorded even in the years of the pandemic (2020 and 2021). Until 2017, it was rare for the number of births to be less than 3,000 in any month.\n",
            "\n",
            "On the other hand, the number of deaths is relatively constant. It ranges between 4,000 and 5,000 per month, which means that every month in Croatia, a thousand, and in some months even two to three thousand more people die than are born.\n",
            "\n",
            "If the number of births and deaths is compared, it is easy to conclude that in 2023, Croatia lost 18 thousand inhabitants just based on the number of deaths being higher than the number of births.\n",
            "\n",
            "Illustratively, Croatia loses more inhabitants every year than live people in cities like Samobor, Đakovo, Požega and Čakovec, just because of the higher number of deaths than births. In two years, the same one loses Šibenik or Varaždin, in three years the whole of Pula, etc.\n",
            "\n",
            "\n",
            "Demographic deficit in Croatia is not new, but the situation has become worse than before\n",
            "Not so long ago, until just ten years ago, there were more than 40,000 births a year in Croatia. The fertility rate, which means the average number of children per woman, has been below 1.60 since the end of the 90s.\n",
            "\n",
            "The lowest was in 2003, when it was 1.41, after which it began to gradually recover until 2009, when it rose to 1.58. But it was in that year that the crisis began, from which Croatia did not recover due to wrong economic policies until 2015, when the fertility rate dropped to 1.40.\n",
            "AD\n",
            "\n",
            "There was even a slight increase in the total number of births from the beginning of the century to the crisis of 2008. As recently as 2009, there were 44.5 thousand births, which from the perspective of 2022 and 2023 (between 33 and 34 thousand births) seems unattainable.\n",
            "\n",
            "During the years of economic growth, fertility recovered\n",
            "Since 2015, when Croatia emerged from the crisis, the fertility rate has been recovering, so in 2021 it is at 1.58 according to data from the EU statistical agency Eurostat. These variations do not mean much, because it is necessary to have a fertility rate of 2.1 children per woman to maintain the population of a country naturally, and that is if there is no emigration.\n",
            "\n",
            "In most years, Croatia was below the EU average in terms of fertility rate, although the EU itself has major problems due to the low rate. But the majority of the EU does not have the problem that Croatia has, mass emigration of young people. In fact, the richer EU countries maintain their population primarily through the help of immigration, while Croatia is an emigrant country.\n",
            "\n",
            "Croatia loses several hundred thousand inhabitants every decade\n",
            "The departure of young people and young families reduces the potential number of births in the future, creating an avalanche effect that makes the demographic die-off extremely difficult to stop. The problem of recovering the number of births is extremely difficult in itself, and with emigration it is almost impossible to maintain the country's population.\n",
            "\n",
            "The trend is clear; according to the 2021 census, 3.87 million people lived in Croatia, and according to the 2011 census, 4.28 million. A drop of 413 thousand inhabitants, which is roughly the total number of people living in the entire Split-Dalmatia County, in a period of just one decade.\n",
            "\n",
            "Very worrying, especially considering that data on trends in the number of births and deaths for 2021 and 2022 show that the next census will show even worse results. It will be good if the census in 2031 shows that there are more than 3.43 million people living in Croatia, which was the last time Croatia had back in 1931.\n",
            "\n",
            "Croatia has more health insurance than residents and more voters than adults\n",
            "Croatia's demographic data are not only devastating but also paradoxical. The number of people insured by the Croatian Institute for Health Insurance is greater than the number of inhabitants, so the health system supports 236 thousand more people than live in Croatia. Huge healthcare debts are just a consequence of this absurdity, along with other problems.\n",
            "\n",
            "Croatia can be called the most democratic country in the world because it has more voters than residents. According to the 2021 census, 3.87 million people live in it, of which 667 thousand are minors and 29 thousand foreigners who cannot be voters. But the latest data from the Ministry of Administration show that we have 3.64 million registered voters in Croatia, 470 thousand more than the adult population.\n",
            "\n",
            "Fewer and fewer children are being born, young people are moving out, old people are dying, but the number of health insured persons is stable, and the number of registered voters in the country shows no signs of decreasing either. Amazing and bizarre.\n",
            "\n",
            "A positive migration balance may alleviate the problem, but it will not eliminate it\n",
            "Optimistically, 18,000 fewer inhabitants in 2023 is due to a higher number of deaths than births, but a negative migration balance should also be added to that figure. In 2022, 58 thousand people immigrated to Croatia, and 46 thousand left.\n",
            "\n",
            "The positive migration balance in 2022 is the only time since 2008 that Croatia has had more immigrants than emigrants, although until that year, more people immigrated to Croatia than emigrated regularly from year to year.\n",
            "\n",
            "CBS does not publish temporary data on population migrations, so we can only speculate about the results for 2023, but it is possible that the trend will continue and the negative natural increase will be mitigated. In 2022, 11,000 more people immigrated than emigrated, and if the data for 2023 shows similar figures, it will still not be enough to completely compensate for the loss of population due to the greater number of deaths than births.\n",
            "\n",
            "Demographic problems throughout the developed world, the ability to respond to them will determine the future of countries\n",
            "Negative demographic trends are very difficult to reverse. Much richer and more successful countries than Croatia have tried, with no or negligible success. Much more money was invested than received.\n",
            "\n",
            "A \"formula\" of measures that work has not yet been found, except in the short term of a couple of years. These measures are generally very expensive and very ineffective. Of course, this does not mean that we should give up trying to bring the number of births and the fertility rate back to sustainable levels.\n",
            "\n",
            "Although there is no simple way to achieve demographic goals, the results so far show that a combination of factors works best, a mix of strong economic growth and well-targeted demographic policies.\n",
            "\n",
            "Croatia has a difficult task because it already has one of the oldest populations in Europe, and thus in the world. It is not only a question of the survival of the people and the state as such, but also a key economic problem of the future.\n",
            "\n",
            "Research shows that the older population innovates less, spends less and invests less (when corrected for other differences). The issue of the sustainability of the pension system is also important, because due to the intergenerational solidarity pension system, the amount of pensions directly depends on the number of workers, i.e. the ratio of workers to pensioners.\n",
            "\n",
            "In fact, it is one of the biggest problems of the 21st century, which is faced by all developed countries from the USA and Europe to China and Japan. The future of countries depends on their ability to respond to demographic problems.\n"
          ]
        }
      ],
      "source": [
        "file_path = 'index_article.txt'\n",
        "\n",
        "with open(file_path, 'r', encoding='utf-8') as file:\n",
        "    file_content = file.read()\n",
        "\n",
        "print(file_content)"
      ]
    },
    {
      "cell_type": "code",
      "execution_count": 47,
      "metadata": {},
      "outputs": [
        {
          "data": {
            "text/plain": [
              "[{'summary_text': 'julian zelizer: 2023 worst year in history in terms of number of births . says emigration slowing rapid aging population a global problem . he says a positive migration balance may alleviate problems . dexter: a negative migration balance should be added .'}]"
            ]
          },
          "execution_count": 47,
          "metadata": {},
          "output_type": "execute_result"
        }
      ],
      "source": [
        "summary = pipe(file_content)\n",
        "summary\n"
      ]
    },
    {
      "cell_type": "code",
      "execution_count": 48,
      "metadata": {},
      "outputs": [],
      "source": [
        "file_path = 'index_zivot_na_vagi_hrv.txt'\n",
        "\n",
        "with open(file_path, 'r', encoding='utf-8') as file:\n",
        "    file_content = file.read()\n"
      ]
    },
    {
      "cell_type": "code",
      "execution_count": 49,
      "metadata": {},
      "outputs": [
        {
          "data": {
            "text/plain": [
              "[{'summary_text': 'pobjednik ivota na vagi je Mislav epi +10 Foto: Press U STUDIJU zagrebakog Jadran filma . pokazali su u punom sjaju da su se isplatili zalaganje u proteklih pet mjeseci .'}]"
            ]
          },
          "execution_count": 49,
          "metadata": {},
          "output_type": "execute_result"
        }
      ],
      "source": [
        "summary = pipe(file_content)\n",
        "summary"
      ]
    },
    {
      "cell_type": "code",
      "execution_count": 50,
      "metadata": {},
      "outputs": [],
      "source": [
        "file_path = 'index_zivot_na_vagi_eng.txt'\n",
        "\n",
        "with open(file_path, 'r', encoding='utf-8') as file:\n",
        "    file_content = file.read()"
      ]
    },
    {
      "cell_type": "code",
      "execution_count": 51,
      "metadata": {},
      "outputs": [
        {
          "data": {
            "text/plain": [
              "[{'summary_text': 'mislav epi weighed 173.9 kilograms five months . he lost 46.9% of her body mass . \"it was really worth it\" says one contestant .'}]"
            ]
          },
          "execution_count": 51,
          "metadata": {},
          "output_type": "execute_result"
        }
      ],
      "source": [
        "summary = pipe(file_content)\n",
        "summary"
      ]
    }
  ],
  "metadata": {
    "accelerator": "GPU",
    "colab": {
      "gpuType": "T4",
      "provenance": []
    },
    "kernelspec": {
      "display_name": "Python 3",
      "name": "python3"
    },
    "language_info": {
      "codemirror_mode": {
        "name": "ipython",
        "version": 3
      },
      "file_extension": ".py",
      "mimetype": "text/x-python",
      "name": "python",
      "nbconvert_exporter": "python",
      "pygments_lexer": "ipython3",
      "version": "3.10.12"
    },
    "widgets": {
      "application/vnd.jupyter.widget-state+json": {
        "172ff96a39dd40e6bf944a9a487535a4": {
          "model_module": "@jupyter-widgets/base",
          "model_module_version": "1.2.0",
          "model_name": "LayoutModel",
          "state": {
            "_model_module": "@jupyter-widgets/base",
            "_model_module_version": "1.2.0",
            "_model_name": "LayoutModel",
            "_view_count": null,
            "_view_module": "@jupyter-widgets/base",
            "_view_module_version": "1.2.0",
            "_view_name": "LayoutView",
            "align_content": null,
            "align_items": null,
            "align_self": null,
            "border": null,
            "bottom": null,
            "display": null,
            "flex": null,
            "flex_flow": null,
            "grid_area": null,
            "grid_auto_columns": null,
            "grid_auto_flow": null,
            "grid_auto_rows": null,
            "grid_column": null,
            "grid_gap": null,
            "grid_row": null,
            "grid_template_areas": null,
            "grid_template_columns": null,
            "grid_template_rows": null,
            "height": null,
            "justify_content": null,
            "justify_items": null,
            "left": null,
            "margin": null,
            "max_height": null,
            "max_width": null,
            "min_height": null,
            "min_width": null,
            "object_fit": null,
            "object_position": null,
            "order": null,
            "overflow": null,
            "overflow_x": null,
            "overflow_y": null,
            "padding": null,
            "right": null,
            "top": null,
            "visibility": null,
            "width": null
          }
        },
        "2098afb8977d4ac1a64551146289aec7": {
          "model_module": "@jupyter-widgets/controls",
          "model_module_version": "1.5.0",
          "model_name": "HTMLModel",
          "state": {
            "_dom_classes": [],
            "_model_module": "@jupyter-widgets/controls",
            "_model_module_version": "1.5.0",
            "_model_name": "HTMLModel",
            "_view_count": null,
            "_view_module": "@jupyter-widgets/controls",
            "_view_module_version": "1.5.0",
            "_view_name": "HTMLView",
            "description": "",
            "description_tooltip": null,
            "layout": "IPY_MODEL_44748588272a4d7c981c5a68fc4c5dac",
            "placeholder": "​",
            "style": "IPY_MODEL_40fc029c0a404320bf30d44a837d3a33",
            "value": " 4786/4786 [00:17&lt;00:00, 280.76 examples/s]"
          }
        },
        "2ba1d9ecbea848d38d42ac89360a2541": {
          "model_module": "@jupyter-widgets/controls",
          "model_module_version": "1.5.0",
          "model_name": "DescriptionStyleModel",
          "state": {
            "_model_module": "@jupyter-widgets/controls",
            "_model_module_version": "1.5.0",
            "_model_name": "DescriptionStyleModel",
            "_view_count": null,
            "_view_module": "@jupyter-widgets/base",
            "_view_module_version": "1.2.0",
            "_view_name": "StyleView",
            "description_width": ""
          }
        },
        "2d9b8c334a894b55b695d8b79215d500": {
          "model_module": "@jupyter-widgets/controls",
          "model_module_version": "1.5.0",
          "model_name": "DescriptionStyleModel",
          "state": {
            "_model_module": "@jupyter-widgets/controls",
            "_model_module_version": "1.5.0",
            "_model_name": "DescriptionStyleModel",
            "_view_count": null,
            "_view_module": "@jupyter-widgets/base",
            "_view_module_version": "1.2.0",
            "_view_name": "StyleView",
            "description_width": ""
          }
        },
        "3296f4ce65ff475db4590fde83c96187": {
          "model_module": "@jupyter-widgets/controls",
          "model_module_version": "1.5.0",
          "model_name": "HTMLModel",
          "state": {
            "_dom_classes": [],
            "_model_module": "@jupyter-widgets/controls",
            "_model_module_version": "1.5.0",
            "_model_name": "HTMLModel",
            "_view_count": null,
            "_view_module": "@jupyter-widgets/controls",
            "_view_module_version": "1.5.0",
            "_view_name": "HTMLView",
            "description": "",
            "description_tooltip": null,
            "layout": "IPY_MODEL_6627caf02f3647d097512e413eaccaad",
            "placeholder": "​",
            "style": "IPY_MODEL_2d9b8c334a894b55b695d8b79215d500",
            "value": "Map: 100%"
          }
        },
        "34232576f3b6420d851ce080d4c6ae72": {
          "model_module": "@jupyter-widgets/controls",
          "model_module_version": "1.5.0",
          "model_name": "HBoxModel",
          "state": {
            "_dom_classes": [],
            "_model_module": "@jupyter-widgets/controls",
            "_model_module_version": "1.5.0",
            "_model_name": "HBoxModel",
            "_view_count": null,
            "_view_module": "@jupyter-widgets/controls",
            "_view_module_version": "1.5.0",
            "_view_name": "HBoxView",
            "box_style": "",
            "children": [
              "IPY_MODEL_3296f4ce65ff475db4590fde83c96187",
              "IPY_MODEL_3d65fc615c684cceb50cc3d4f98a2500",
              "IPY_MODEL_639c2aa4130445f8a77d196a71427f3f"
            ],
            "layout": "IPY_MODEL_75e8beb487694f42b3f2b035b5893f81"
          }
        },
        "3d65fc615c684cceb50cc3d4f98a2500": {
          "model_module": "@jupyter-widgets/controls",
          "model_module_version": "1.5.0",
          "model_name": "FloatProgressModel",
          "state": {
            "_dom_classes": [],
            "_model_module": "@jupyter-widgets/controls",
            "_model_module_version": "1.5.0",
            "_model_name": "FloatProgressModel",
            "_view_count": null,
            "_view_module": "@jupyter-widgets/controls",
            "_view_module_version": "1.5.0",
            "_view_name": "ProgressView",
            "bar_style": "success",
            "description": "",
            "description_tooltip": null,
            "layout": "IPY_MODEL_172ff96a39dd40e6bf944a9a487535a4",
            "max": 23926,
            "min": 0,
            "orientation": "horizontal",
            "style": "IPY_MODEL_ffdbd5e2e2ca40a69fc74186cd24772c",
            "value": 23926
          }
        },
        "40fc029c0a404320bf30d44a837d3a33": {
          "model_module": "@jupyter-widgets/controls",
          "model_module_version": "1.5.0",
          "model_name": "DescriptionStyleModel",
          "state": {
            "_model_module": "@jupyter-widgets/controls",
            "_model_module_version": "1.5.0",
            "_model_name": "DescriptionStyleModel",
            "_view_count": null,
            "_view_module": "@jupyter-widgets/base",
            "_view_module_version": "1.2.0",
            "_view_name": "StyleView",
            "description_width": ""
          }
        },
        "44748588272a4d7c981c5a68fc4c5dac": {
          "model_module": "@jupyter-widgets/base",
          "model_module_version": "1.2.0",
          "model_name": "LayoutModel",
          "state": {
            "_model_module": "@jupyter-widgets/base",
            "_model_module_version": "1.2.0",
            "_model_name": "LayoutModel",
            "_view_count": null,
            "_view_module": "@jupyter-widgets/base",
            "_view_module_version": "1.2.0",
            "_view_name": "LayoutView",
            "align_content": null,
            "align_items": null,
            "align_self": null,
            "border": null,
            "bottom": null,
            "display": null,
            "flex": null,
            "flex_flow": null,
            "grid_area": null,
            "grid_auto_columns": null,
            "grid_auto_flow": null,
            "grid_auto_rows": null,
            "grid_column": null,
            "grid_gap": null,
            "grid_row": null,
            "grid_template_areas": null,
            "grid_template_columns": null,
            "grid_template_rows": null,
            "height": null,
            "justify_content": null,
            "justify_items": null,
            "left": null,
            "margin": null,
            "max_height": null,
            "max_width": null,
            "min_height": null,
            "min_width": null,
            "object_fit": null,
            "object_position": null,
            "order": null,
            "overflow": null,
            "overflow_x": null,
            "overflow_y": null,
            "padding": null,
            "right": null,
            "top": null,
            "visibility": null,
            "width": null
          }
        },
        "5b46b51b66d849e6ab48554a08a6a273": {
          "model_module": "@jupyter-widgets/base",
          "model_module_version": "1.2.0",
          "model_name": "LayoutModel",
          "state": {
            "_model_module": "@jupyter-widgets/base",
            "_model_module_version": "1.2.0",
            "_model_name": "LayoutModel",
            "_view_count": null,
            "_view_module": "@jupyter-widgets/base",
            "_view_module_version": "1.2.0",
            "_view_name": "LayoutView",
            "align_content": null,
            "align_items": null,
            "align_self": null,
            "border": null,
            "bottom": null,
            "display": null,
            "flex": null,
            "flex_flow": null,
            "grid_area": null,
            "grid_auto_columns": null,
            "grid_auto_flow": null,
            "grid_auto_rows": null,
            "grid_column": null,
            "grid_gap": null,
            "grid_row": null,
            "grid_template_areas": null,
            "grid_template_columns": null,
            "grid_template_rows": null,
            "height": null,
            "justify_content": null,
            "justify_items": null,
            "left": null,
            "margin": null,
            "max_height": null,
            "max_width": null,
            "min_height": null,
            "min_width": null,
            "object_fit": null,
            "object_position": null,
            "order": null,
            "overflow": null,
            "overflow_x": null,
            "overflow_y": null,
            "padding": null,
            "right": null,
            "top": null,
            "visibility": null,
            "width": null
          }
        },
        "639c2aa4130445f8a77d196a71427f3f": {
          "model_module": "@jupyter-widgets/controls",
          "model_module_version": "1.5.0",
          "model_name": "HTMLModel",
          "state": {
            "_dom_classes": [],
            "_model_module": "@jupyter-widgets/controls",
            "_model_module_version": "1.5.0",
            "_model_name": "HTMLModel",
            "_view_count": null,
            "_view_module": "@jupyter-widgets/controls",
            "_view_module_version": "1.5.0",
            "_view_name": "HTMLView",
            "description": "",
            "description_tooltip": null,
            "layout": "IPY_MODEL_9e6905b5dbbc46009d357c3c3d733264",
            "placeholder": "​",
            "style": "IPY_MODEL_2ba1d9ecbea848d38d42ac89360a2541",
            "value": " 23926/23926 [01:40&lt;00:00, 263.39 examples/s]"
          }
        },
        "6627caf02f3647d097512e413eaccaad": {
          "model_module": "@jupyter-widgets/base",
          "model_module_version": "1.2.0",
          "model_name": "LayoutModel",
          "state": {
            "_model_module": "@jupyter-widgets/base",
            "_model_module_version": "1.2.0",
            "_model_name": "LayoutModel",
            "_view_count": null,
            "_view_module": "@jupyter-widgets/base",
            "_view_module_version": "1.2.0",
            "_view_name": "LayoutView",
            "align_content": null,
            "align_items": null,
            "align_self": null,
            "border": null,
            "bottom": null,
            "display": null,
            "flex": null,
            "flex_flow": null,
            "grid_area": null,
            "grid_auto_columns": null,
            "grid_auto_flow": null,
            "grid_auto_rows": null,
            "grid_column": null,
            "grid_gap": null,
            "grid_row": null,
            "grid_template_areas": null,
            "grid_template_columns": null,
            "grid_template_rows": null,
            "height": null,
            "justify_content": null,
            "justify_items": null,
            "left": null,
            "margin": null,
            "max_height": null,
            "max_width": null,
            "min_height": null,
            "min_width": null,
            "object_fit": null,
            "object_position": null,
            "order": null,
            "overflow": null,
            "overflow_x": null,
            "overflow_y": null,
            "padding": null,
            "right": null,
            "top": null,
            "visibility": null,
            "width": null
          }
        },
        "72e6a09931ca493a9a2e199ad99cfaa2": {
          "model_module": "@jupyter-widgets/base",
          "model_module_version": "1.2.0",
          "model_name": "LayoutModel",
          "state": {
            "_model_module": "@jupyter-widgets/base",
            "_model_module_version": "1.2.0",
            "_model_name": "LayoutModel",
            "_view_count": null,
            "_view_module": "@jupyter-widgets/base",
            "_view_module_version": "1.2.0",
            "_view_name": "LayoutView",
            "align_content": null,
            "align_items": null,
            "align_self": null,
            "border": null,
            "bottom": null,
            "display": null,
            "flex": null,
            "flex_flow": null,
            "grid_area": null,
            "grid_auto_columns": null,
            "grid_auto_flow": null,
            "grid_auto_rows": null,
            "grid_column": null,
            "grid_gap": null,
            "grid_row": null,
            "grid_template_areas": null,
            "grid_template_columns": null,
            "grid_template_rows": null,
            "height": null,
            "justify_content": null,
            "justify_items": null,
            "left": null,
            "margin": null,
            "max_height": null,
            "max_width": null,
            "min_height": null,
            "min_width": null,
            "object_fit": null,
            "object_position": null,
            "order": null,
            "overflow": null,
            "overflow_x": null,
            "overflow_y": null,
            "padding": null,
            "right": null,
            "top": null,
            "visibility": null,
            "width": null
          }
        },
        "75e8beb487694f42b3f2b035b5893f81": {
          "model_module": "@jupyter-widgets/base",
          "model_module_version": "1.2.0",
          "model_name": "LayoutModel",
          "state": {
            "_model_module": "@jupyter-widgets/base",
            "_model_module_version": "1.2.0",
            "_model_name": "LayoutModel",
            "_view_count": null,
            "_view_module": "@jupyter-widgets/base",
            "_view_module_version": "1.2.0",
            "_view_name": "LayoutView",
            "align_content": null,
            "align_items": null,
            "align_self": null,
            "border": null,
            "bottom": null,
            "display": null,
            "flex": null,
            "flex_flow": null,
            "grid_area": null,
            "grid_auto_columns": null,
            "grid_auto_flow": null,
            "grid_auto_rows": null,
            "grid_column": null,
            "grid_gap": null,
            "grid_row": null,
            "grid_template_areas": null,
            "grid_template_columns": null,
            "grid_template_rows": null,
            "height": null,
            "justify_content": null,
            "justify_items": null,
            "left": null,
            "margin": null,
            "max_height": null,
            "max_width": null,
            "min_height": null,
            "min_width": null,
            "object_fit": null,
            "object_position": null,
            "order": null,
            "overflow": null,
            "overflow_x": null,
            "overflow_y": null,
            "padding": null,
            "right": null,
            "top": null,
            "visibility": null,
            "width": null
          }
        },
        "81ad797b1e174918953f7d9f6d89b9ae": {
          "model_module": "@jupyter-widgets/base",
          "model_module_version": "1.2.0",
          "model_name": "LayoutModel",
          "state": {
            "_model_module": "@jupyter-widgets/base",
            "_model_module_version": "1.2.0",
            "_model_name": "LayoutModel",
            "_view_count": null,
            "_view_module": "@jupyter-widgets/base",
            "_view_module_version": "1.2.0",
            "_view_name": "LayoutView",
            "align_content": null,
            "align_items": null,
            "align_self": null,
            "border": null,
            "bottom": null,
            "display": null,
            "flex": null,
            "flex_flow": null,
            "grid_area": null,
            "grid_auto_columns": null,
            "grid_auto_flow": null,
            "grid_auto_rows": null,
            "grid_column": null,
            "grid_gap": null,
            "grid_row": null,
            "grid_template_areas": null,
            "grid_template_columns": null,
            "grid_template_rows": null,
            "height": null,
            "justify_content": null,
            "justify_items": null,
            "left": null,
            "margin": null,
            "max_height": null,
            "max_width": null,
            "min_height": null,
            "min_width": null,
            "object_fit": null,
            "object_position": null,
            "order": null,
            "overflow": null,
            "overflow_x": null,
            "overflow_y": null,
            "padding": null,
            "right": null,
            "top": null,
            "visibility": null,
            "width": null
          }
        },
        "967b2b441c3e4962864fe6d0d6d72889": {
          "model_module": "@jupyter-widgets/controls",
          "model_module_version": "1.5.0",
          "model_name": "DescriptionStyleModel",
          "state": {
            "_model_module": "@jupyter-widgets/controls",
            "_model_module_version": "1.5.0",
            "_model_name": "DescriptionStyleModel",
            "_view_count": null,
            "_view_module": "@jupyter-widgets/base",
            "_view_module_version": "1.2.0",
            "_view_name": "StyleView",
            "description_width": ""
          }
        },
        "9e6905b5dbbc46009d357c3c3d733264": {
          "model_module": "@jupyter-widgets/base",
          "model_module_version": "1.2.0",
          "model_name": "LayoutModel",
          "state": {
            "_model_module": "@jupyter-widgets/base",
            "_model_module_version": "1.2.0",
            "_model_name": "LayoutModel",
            "_view_count": null,
            "_view_module": "@jupyter-widgets/base",
            "_view_module_version": "1.2.0",
            "_view_name": "LayoutView",
            "align_content": null,
            "align_items": null,
            "align_self": null,
            "border": null,
            "bottom": null,
            "display": null,
            "flex": null,
            "flex_flow": null,
            "grid_area": null,
            "grid_auto_columns": null,
            "grid_auto_flow": null,
            "grid_auto_rows": null,
            "grid_column": null,
            "grid_gap": null,
            "grid_row": null,
            "grid_template_areas": null,
            "grid_template_columns": null,
            "grid_template_rows": null,
            "height": null,
            "justify_content": null,
            "justify_items": null,
            "left": null,
            "margin": null,
            "max_height": null,
            "max_width": null,
            "min_height": null,
            "min_width": null,
            "object_fit": null,
            "object_position": null,
            "order": null,
            "overflow": null,
            "overflow_x": null,
            "overflow_y": null,
            "padding": null,
            "right": null,
            "top": null,
            "visibility": null,
            "width": null
          }
        },
        "a3668db58e5b47e081a655dad7c5c291": {
          "model_module": "@jupyter-widgets/controls",
          "model_module_version": "1.5.0",
          "model_name": "HTMLModel",
          "state": {
            "_dom_classes": [],
            "_model_module": "@jupyter-widgets/controls",
            "_model_module_version": "1.5.0",
            "_model_name": "HTMLModel",
            "_view_count": null,
            "_view_module": "@jupyter-widgets/controls",
            "_view_module_version": "1.5.0",
            "_view_name": "HTMLView",
            "description": "",
            "description_tooltip": null,
            "layout": "IPY_MODEL_5b46b51b66d849e6ab48554a08a6a273",
            "placeholder": "​",
            "style": "IPY_MODEL_967b2b441c3e4962864fe6d0d6d72889",
            "value": "Map: 100%"
          }
        },
        "a8aea4a069e048ce97ba3845f3c2b5ef": {
          "model_module": "@jupyter-widgets/controls",
          "model_module_version": "1.5.0",
          "model_name": "FloatProgressModel",
          "state": {
            "_dom_classes": [],
            "_model_module": "@jupyter-widgets/controls",
            "_model_module_version": "1.5.0",
            "_model_name": "FloatProgressModel",
            "_view_count": null,
            "_view_module": "@jupyter-widgets/controls",
            "_view_module_version": "1.5.0",
            "_view_name": "ProgressView",
            "bar_style": "success",
            "description": "",
            "description_tooltip": null,
            "layout": "IPY_MODEL_81ad797b1e174918953f7d9f6d89b9ae",
            "max": 4786,
            "min": 0,
            "orientation": "horizontal",
            "style": "IPY_MODEL_e8f66f66a0d949b0aeb508bf519e6093",
            "value": 4786
          }
        },
        "afd257003cfb465fb70f331b21f1d8b1": {
          "model_module": "@jupyter-widgets/controls",
          "model_module_version": "1.5.0",
          "model_name": "HBoxModel",
          "state": {
            "_dom_classes": [],
            "_model_module": "@jupyter-widgets/controls",
            "_model_module_version": "1.5.0",
            "_model_name": "HBoxModel",
            "_view_count": null,
            "_view_module": "@jupyter-widgets/controls",
            "_view_module_version": "1.5.0",
            "_view_name": "HBoxView",
            "box_style": "",
            "children": [
              "IPY_MODEL_a3668db58e5b47e081a655dad7c5c291",
              "IPY_MODEL_a8aea4a069e048ce97ba3845f3c2b5ef",
              "IPY_MODEL_2098afb8977d4ac1a64551146289aec7"
            ],
            "layout": "IPY_MODEL_72e6a09931ca493a9a2e199ad99cfaa2"
          }
        },
        "e8f66f66a0d949b0aeb508bf519e6093": {
          "model_module": "@jupyter-widgets/controls",
          "model_module_version": "1.5.0",
          "model_name": "ProgressStyleModel",
          "state": {
            "_model_module": "@jupyter-widgets/controls",
            "_model_module_version": "1.5.0",
            "_model_name": "ProgressStyleModel",
            "_view_count": null,
            "_view_module": "@jupyter-widgets/base",
            "_view_module_version": "1.2.0",
            "_view_name": "StyleView",
            "bar_color": null,
            "description_width": ""
          }
        },
        "ffdbd5e2e2ca40a69fc74186cd24772c": {
          "model_module": "@jupyter-widgets/controls",
          "model_module_version": "1.5.0",
          "model_name": "ProgressStyleModel",
          "state": {
            "_model_module": "@jupyter-widgets/controls",
            "_model_module_version": "1.5.0",
            "_model_name": "ProgressStyleModel",
            "_view_count": null,
            "_view_module": "@jupyter-widgets/base",
            "_view_module_version": "1.2.0",
            "_view_name": "StyleView",
            "bar_color": null,
            "description_width": ""
          }
        }
      }
    }
  },
  "nbformat": 4,
  "nbformat_minor": 0
}
